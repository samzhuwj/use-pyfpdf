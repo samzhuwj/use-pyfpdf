{
 "cells": [
  {
   "cell_type": "code",
   "execution_count": 3,
   "metadata": {},
   "outputs": [
    {
     "data": {
      "text/plain": [
       "''"
      ]
     },
     "execution_count": 3,
     "metadata": {},
     "output_type": "execute_result"
    }
   ],
   "source": [
    "from fpdf import FPDF\n",
    " \n",
    "pdf = FPDF(format='letter')\n",
    "pdf.add_page()\n",
    "pdf.set_font(\"Arial\", size=12)\n",
    "pdf.cell(200, 10, txt=\"Welcome to Python!\", align=\"C\")\n",
    "pdf.output(\"tutorial.pdf\")"
   ]
  },
  {
   "cell_type": "code",
   "execution_count": 4,
   "metadata": {},
   "outputs": [
    {
     "data": {
      "text/plain": [
       "''"
      ]
     },
     "execution_count": 4,
     "metadata": {},
     "output_type": "execute_result"
    }
   ],
   "source": [
    "from fpdf import FPDF\n",
    " \n",
    "pdf = FPDF(format='letter')\n",
    "pdf.add_page()\n",
    "pdf.set_font(\"Arial\", size=12)\n",
    "pdf.cell(200, 10, txt=\"Welcome to Python!\", ln=1, align=\"C\")\n",
    "pdf.cell(200,10,'Powered by FPDF',0,1,'C')\n",
    "pdf.output(\"tutorial1.pdf\")"
   ]
  },
  {
   "cell_type": "code",
   "execution_count": 16,
   "metadata": {},
   "outputs": [
    {
     "data": {
      "text/plain": [
       "''"
      ]
     },
     "execution_count": 16,
     "metadata": {},
     "output_type": "execute_result"
    }
   ],
   "source": [
    "from fpdf import FPDF\n",
    "\n",
    "class MyPDF(FPDF):\n",
    "    def header(self):\n",
    "        self.image(\"logo.png\", x=10, y=8, w=23)\n",
    "        self.cell(w=80)\n",
    "        self.set_font(\"Arial\", style=\"B\", size=15)\n",
    "        self.cell(40,10, \"Python Rules!\", border=1, ln=0, align=\"C\")\n",
    "        self.ln(20)\n",
    " \n",
    "    def footer(self):\n",
    "        self.set_y(-15)\n",
    "        self.set_font(\"Arial\", style=\"I\", size=8)\n",
    "        pageNum = \"Page %s/{nb}\" % self.page_no()\n",
    "        self.cell(0, 10, pageNum, align=\"C\")\n",
    " \n",
    "pdf=MyFPDF()\n",
    "pdf.alias_nb_pages()\n",
    "pdf.add_page()\n",
    "pdf.set_font(\"Times\", size=12)\n",
    "\n",
    "for i in range(1, 50):\n",
    "    pdf.cell(0, 10, \"Line number %s\" % i, border=0, ln=1)\n",
    "pdf.output(\"tutorial2.pdf\")"
   ]
  },
  {
   "cell_type": "code",
   "execution_count": 9,
   "metadata": {},
   "outputs": [
    {
     "data": {
      "text/plain": [
       "''"
      ]
     },
     "execution_count": 9,
     "metadata": {},
     "output_type": "execute_result"
    }
   ],
   "source": [
    "html = \"\"\"\n",
    "<H1 align=\"center\">html2fpdf</H1>\n",
    "<h2>Basic usage</h2>\n",
    "<p>You can now easily print text while mixing different\n",
    "styles : <B>bold</B>, <I>italic</I>, <U>underlined</U>, or\n",
    "<B><I><U>all at once</U></I></B>!\n",
    " \n",
    "<BR>You can also insert hyperlinks\n",
    "like this <A HREF=\"http://www.pypi.org\">www.pypi.org</A>,\n",
    "or include a hyperlink in an image. Just click on the one below.<br>\n",
    "<center>\n",
    "<A HREF=\"http://www.pypi.org\"><img src=\"logo.png\" width=\"150\" height=\"150\"></A>\n",
    "</center>\n",
    " \n",
    "<h3>Sample List</h3>\n",
    "<ul><li>option 1</li>\n",
    "<ol><li>option 2</li></ol>\n",
    "<li>option 3</li></ul>\n",
    " \n",
    "<table border=\"0\" align=\"center\" width=\"50%\">\n",
    "<thead><tr><th width=\"30%\">Header 1</th><th width=\"70%\">header 2</th></tr></thead>\n",
    "<tbody>\n",
    "<tr><td>cell 1</td><td>cell 2</td></tr>\n",
    "<tr><td>cell 2</td><td>cell 3</td></tr>\n",
    "</tbody>\n",
    "</table>\n",
    "\"\"\"\n",
    " \n",
    "from fpdf import FPDF, HTMLMixin\n",
    " \n",
    "class MyFPDF(FPDF, HTMLMixin):\n",
    "    pass\n",
    " \n",
    "pdf=MyFPDF()\n",
    "pdf.add_page()\n",
    "pdf.write_html(html)\n",
    "pdf.output('html.pdf','F')"
   ]
  },
  {
   "cell_type": "code",
   "execution_count": null,
   "metadata": {},
   "outputs": [],
   "source": []
  }
 ],
 "metadata": {
  "kernelspec": {
   "display_name": "Python 3",
   "language": "python",
   "name": "python3"
  },
  "language_info": {
   "codemirror_mode": {
    "name": "ipython",
    "version": 3
   },
   "file_extension": ".py",
   "mimetype": "text/x-python",
   "name": "python",
   "nbconvert_exporter": "python",
   "pygments_lexer": "ipython3",
   "version": "3.6.4"
  }
 },
 "nbformat": 4,
 "nbformat_minor": 2
}
